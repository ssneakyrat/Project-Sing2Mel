{
 "cells": [
  {
   "cell_type": "code",
   "execution_count": null,
   "id": "0832d917-6ebd-4e8e-9d42-7a0cef70dc02",
   "metadata": {},
   "outputs": [],
   "source": [
    "pip install torch"
   ]
  },
  {
   "cell_type": "code",
   "execution_count": null,
   "id": "0c2ba603-1040-429c-bc8d-ba9819e950c0",
   "metadata": {},
   "outputs": [],
   "source": [
    "pip install numpy"
   ]
  },
  {
   "cell_type": "code",
   "execution_count": null,
   "id": "562d8751-ced2-447b-ad20-813ad94feb71",
   "metadata": {},
   "outputs": [],
   "source": [
    "pip install pytorch_lightning"
   ]
  },
  {
   "cell_type": "code",
   "execution_count": null,
   "id": "38e75642-56cb-4ca1-975b-9e447bf27d2d",
   "metadata": {},
   "outputs": [],
   "source": [
    "pip install soundfile"
   ]
  },
  {
   "cell_type": "code",
   "execution_count": null,
   "id": "ad271fb0-f781-45f5-97c3-6628800052f0",
   "metadata": {},
   "outputs": [],
   "source": [
    "pip install torchaudio"
   ]
  },
  {
   "cell_type": "code",
   "execution_count": null,
   "id": "fd636140-d5c4-4fa3-adb1-dc723817f3a7",
   "metadata": {},
   "outputs": [],
   "source": [
    "pip install matplotlib"
   ]
  },
  {
   "cell_type": "code",
   "execution_count": null,
   "id": "04e725d4-080d-4d26-835d-5d79ede86706",
   "metadata": {},
   "outputs": [],
   "source": [
    "pip install praat-parselmouth"
   ]
  },
  {
   "cell_type": "code",
   "execution_count": null,
   "id": "d6adf89c-0ff5-4cac-b137-c3f4b0fb5c19",
   "metadata": {},
   "outputs": [],
   "source": [
    "pip install tensorboard"
   ]
  },
  {
   "cell_type": "code",
   "execution_count": null,
   "id": "333d1603-45ad-4e06-87b9-feeca34952d6",
   "metadata": {},
   "outputs": [
    {
     "name": "stdout",
     "output_type": "stream",
     "text": [
      "Creating separate train and validation datasets...\n",
      "2025-04-24 15:11:03,089 - SingingVoiceDataset - INFO - Creating training dataset...\n",
      "2025-04-24 15:11:03,089 - SingingVoiceDataset - INFO - Initializing training dataset\n",
      "2025-04-24 15:11:03,089 - SingingVoiceDataset - INFO - Loading training dataset from cache: ./cache/singing_voice_train_data_24000hz_80mels.pkl\n",
      "2025-04-24 15:11:04,826 - SingingVoiceDataset - INFO - Loaded 4000 segments with 2 singers, 2 languages, and 77 unique phones\n",
      "2025-04-24 15:11:04,826 - SingingVoiceDataset - INFO - Max audio length: 48000 samples, Max mel frames: 201\n",
      "2025-04-24 15:11:04,826 - SingingVoiceDataset - INFO - Creating validation dataset...\n",
      "2025-04-24 15:11:04,827 - SingingVoiceDataset - INFO - Initializing validation dataset\n",
      "2025-04-24 15:11:04,827 - SingingVoiceDataset - INFO - Loading validation dataset from cache: ./cache/singing_voice_val_data_24000hz_80mels.pkl\n",
      "2025-04-24 15:11:04,843 - SingingVoiceDataset - INFO - Loaded 39 segments with 2 singers, 2 languages, and 77 unique phones\n",
      "2025-04-24 15:11:04,843 - SingingVoiceDataset - INFO - Max audio length: 48000 samples, Max mel frames: 201\n",
      "Training dataset size: 4000\n",
      "Validation dataset size: 39\n",
      "Max audio length: 48000 samples (2.00 seconds)\n",
      "Max mel frames: 201\n",
      "Phone map length: 78\n",
      "Singer map length: 2\n",
      "Language map length: 2\n",
      "GPU available: True (cuda), used: True\n",
      "TPU available: False, using: 0 TPU cores\n",
      "HPU available: False, using: 0 HPUs\n",
      "You are using a CUDA device ('NVIDIA GeForce RTX 3090') that has Tensor Cores. To properly utilize them, you should set `torch.set_float32_matmul_precision('medium' | 'high')` which will trade-off precision for performance. For more details, read https://pytorch.org/docs/stable/generated/torch.set_float32_matmul_precision.html#torch.set_float32_matmul_precision\n",
      "LOCAL_RANK: 0 - CUDA_VISIBLE_DEVICES: [0]\n",
      "\n",
      "  | Name    | Type       | Params | Mode \n",
      "-----------------------------------------------\n",
      "0 | model   | Synth      | 3.3 M  | train\n",
      "1 | loss_fn | HybridLoss | 0      | train\n",
      "-----------------------------------------------\n",
      "3.3 M     Trainable params\n",
      "0         Non-trainable params\n",
      "3.3 M     Total params\n",
      "13.366    Total estimated model params size (MB)\n",
      "64        Modules in train mode\n",
      "0         Modules in eval mode\n",
      "/venv/main/lib/python3.10/site-packages/pytorch_lightning/trainer/connectors/data_connector.py:425: The 'train_dataloader' does not have many workers which may be a bottleneck. Consider increasing the value of the `num_workers` argument` to `num_workers=63` in the `DataLoader` to improve performance.\n",
      "/venv/main/lib/python3.10/site-packages/pytorch_lightning/trainer/connectors/data_connector.py:425: The 'val_dataloader' does not have many workers which may be a bottleneck. Consider increasing the value of the `num_workers` argument` to `num_workers=63` in the `DataLoader` to improve performance.\n",
      "/workspace/ddsp/core.py:14: UserWarning: To copy construct from a tensor, it is recommended to use sourceTensor.detach().clone() or sourceTensor.detach().clone().requires_grad_(True), rather than torch.tensor(sourceTensor).\n",
      "  return torch.log(torch.tensor(x)) / torch.log(torch.tensor(base))\n",
      "Epoch 0: 100%|█| 125/125 [00:48<00:00,  2.58it/s, v_num=0, train_mss_loss=2.960,\n",
      "Validation: |                                             | 0/? [00:00<?, ?it/s]\u001b[A\n",
      "Validation:   0%|                                         | 0/2 [00:00<?, ?it/s]\u001b[A\n",
      "Validation DataLoader 0:   0%|                            | 0/2 [00:00<?, ?it/s]\u001b[A\n",
      "/workspace/ddsp/core.py:14: UserWarning: To copy construct from a tensor, it is recommended to use sourceTensor.detach().clone() or sourceTensor.detach().clone().requires_grad_(True), rather than torch.tensor(sourceTensor).\n",
      "  return torch.log(torch.tensor(x)) / torch.log(torch.tensor(base))\n",
      "\n",
      "Validation DataLoader 0: 100%|████████████████████| 2/2 [00:01<00:00,  1.64it/s]\u001b[A\n",
      "Epoch 1: 100%|█| 125/125 [00:45<00:00,  2.74it/s, v_num=0, train_mss_loss=2.240,\u001b[A\n",
      "Validation: |                                             | 0/? [00:00<?, ?it/s]\u001b[A\n",
      "Validation:   0%|                                         | 0/2 [00:00<?, ?it/s]\u001b[A\n",
      "Validation DataLoader 0:   0%|                            | 0/2 [00:00<?, ?it/s]\u001b[A\n",
      "Validation DataLoader 0:  50%|██████████          | 1/2 [00:00<00:00,  2.39it/s]\u001b[A\n",
      "Validation DataLoader 0: 100%|████████████████████| 2/2 [00:00<00:00,  2.63it/s]\u001b[A\n",
      "Epoch 2:  29%|▎| 36/125 [00:15<00:37,  2.36it/s, v_num=0, train_mss_loss=2.180, \u001b[A"
     ]
    }
   ],
   "source": [
    "!python train.py"
   ]
  },
  {
   "cell_type": "code",
   "execution_count": null,
   "id": "198340c8-0d9f-4124-9d79-8bafb65f2fc7",
   "metadata": {},
   "outputs": [],
   "source": []
  }
 ],
 "metadata": {
  "kernelspec": {
   "display_name": "Python3 (main venv)",
   "language": "python",
   "name": "main"
  },
  "language_info": {
   "codemirror_mode": {
    "name": "ipython",
    "version": 3
   },
   "file_extension": ".py",
   "mimetype": "text/x-python",
   "name": "python",
   "nbconvert_exporter": "python",
   "pygments_lexer": "ipython3",
   "version": "3.10.12"
  }
 },
 "nbformat": 4,
 "nbformat_minor": 5
}
